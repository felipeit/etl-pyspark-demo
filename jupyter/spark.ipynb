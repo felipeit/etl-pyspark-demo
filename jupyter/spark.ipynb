{
 "cells": [
  {
   "cell_type": "code",
   "execution_count": 3,
   "id": "c669ea05-e6f9-46d4-8d62-91c290bafb2d",
   "metadata": {},
   "outputs": [],
   "source": [
    "from pyspark.sql import SparkSession"
   ]
  },
  {
   "cell_type": "code",
   "execution_count": 4,
   "id": "ef9b2609-f59a-492d-a72d-ea0ac5e2b7c6",
   "metadata": {},
   "outputs": [
    {
     "name": "stderr",
     "output_type": "stream",
     "text": [
      "24/05/22 18:52:32 WARN Utils: Your hostname, DESKTOP-TE9D6P7 resolves to a loopback address: 127.0.1.1; using 172.31.179.110 instead (on interface eth0)\n",
      "24/05/22 18:52:32 WARN Utils: Set SPARK_LOCAL_IP if you need to bind to another address\n",
      "Setting default log level to \"WARN\".\n",
      "To adjust logging level use sc.setLogLevel(newLevel). For SparkR, use setLogLevel(newLevel).\n",
      "24/05/22 18:52:33 WARN NativeCodeLoader: Unable to load native-hadoop library for your platform... using builtin-java classes where applicable\n"
     ]
    }
   ],
   "source": [
    "spark = SparkSession.builder.appName(\"elt-pyspark-demo\").getOrCreate()\n",
    "path_file = '/home/workspaces/pyspark/etl-pyspark-demo/datalake/Cortex_04_03_2024-05_05_2024_historical_data_coinmarketcap.csv'"
   ]
  },
  {
   "cell_type": "code",
   "execution_count": 6,
   "id": "147403d7-52b5-4f72-ab3f-3d9aaf4cc138",
   "metadata": {},
   "outputs": [],
   "source": [
    "df = spark.read.csv(\n",
    "    path_file, \n",
    "    header=True, \n",
    "    sep=';'\n",
    ")"
   ]
  },
  {
   "cell_type": "code",
   "execution_count": 7,
   "id": "bc94bd47-2117-43ab-92cf-bbf7bc2ed420",
   "metadata": {},
   "outputs": [
    {
     "data": {
      "text/plain": [
       "Row(timeOpen='2024-05-04T00:00:00.000Z', timeClose='2024-05-04T23:59:59.999Z', timeHigh='2024-05-04T23:31:00.000Z', timeLow='2024-05-04T10:00:00.000Z', name='2781', open='0.3104479022', high='0.3331378439', low='0.3076670714', close='0.3281821223', volume='4827456.02', marketCap='72394383.56', timestamp='2024-05-04T23:59:59.999Z')"
      ]
     },
     "execution_count": 7,
     "metadata": {},
     "output_type": "execute_result"
    }
   ],
   "source": [
    "df.head()"
   ]
  },
  {
   "cell_type": "markdown",
   "id": "e8973acb-19e8-4471-aa63-ceb4bcac626c",
   "metadata": {},
   "source": [
    "### RDD – Resilient Distributed Datasets"
   ]
  },
  {
   "cell_type": "markdown",
   "id": "4dae9b22-b69d-421a-8398-11851be3a278",
   "metadata": {},
   "source": [
    "#### Processos de transformação e ações"
   ]
  },
  {
   "cell_type": "code",
   "execution_count": 16,
   "id": "943f784b-3ca2-4f47-b300-9fab77700d3a",
   "metadata": {},
   "outputs": [],
   "source": [
    "sc = spark.sparkContext\n",
    "rdd = sc.parallelize([1,2,3,4,5,6,7,8,9,10])"
   ]
  },
  {
   "cell_type": "code",
   "execution_count": 17,
   "id": "2cc9adcb-c94c-4fa2-8ced-f5fcdf3f730b",
   "metadata": {},
   "outputs": [
    {
     "data": {
      "text/plain": [
       "pyspark.rdd.RDD"
      ]
     },
     "execution_count": 17,
     "metadata": {},
     "output_type": "execute_result"
    }
   ],
   "source": [
    "type(rdd)"
   ]
  },
  {
   "cell_type": "code",
   "execution_count": 20,
   "id": "cf896229-3c23-464b-8bde-a102b190650c",
   "metadata": {},
   "outputs": [
    {
     "data": {
      "text/plain": [
       "[2]"
      ]
     },
     "execution_count": 20,
     "metadata": {},
     "output_type": "execute_result"
    }
   ],
   "source": [
    "# filtro feito com função lambda sobre um RDD\n",
    "rdd.filter(lambda f: f == 2).collect()"
   ]
  },
  {
   "cell_type": "code",
   "execution_count": 24,
   "id": "bc6ae416-f0e1-448d-b0bb-ec54566dac18",
   "metadata": {},
   "outputs": [
    {
     "data": {
      "text/plain": [
       "[2, 4, 6, 8, 10, 12, 14, 16, 18, 20]"
      ]
     },
     "execution_count": 24,
     "metadata": {},
     "output_type": "execute_result"
    }
   ],
   "source": [
    "# aplicando multiplicação com a função map sobre um RDD\n",
    "rdd.map(lambda f: f * 2).collect()"
   ]
  },
  {
   "cell_type": "code",
   "execution_count": 28,
   "id": "f2425abb-abef-4d5c-ba05-4e839709d4cf",
   "metadata": {},
   "outputs": [
    {
     "data": {
      "text/plain": [
       "[1, 2, 3, 4, 5, 6, 7, 8, 9, 10, 2, 4, 6, 8, 10, 12, 14, 16, 18, 20]"
      ]
     },
     "execution_count": 28,
     "metadata": {},
     "output_type": "execute_result"
    }
   ],
   "source": [
    "# unido dois RDD\n",
    "soma = rdd.map(lambda f: f * 2)\n",
    "rdd.union(soma).collect()"
   ]
  },
  {
   "cell_type": "code",
   "execution_count": 29,
   "id": "c3eb7783-6ec7-4043-acf3-3dc57eeeb777",
   "metadata": {},
   "outputs": [
    {
     "name": "stderr",
     "output_type": "stream",
     "text": [
      "                                                                                \r"
     ]
    },
    {
     "data": {
      "text/plain": [
       "[2, 4, 6, 8, 10]"
      ]
     },
     "execution_count": 29,
     "metadata": {},
     "output_type": "execute_result"
    }
   ],
   "source": [
    "# procurando uma interseção em um RDD\n",
    "soma = rdd.map(lambda f: f * 2)\n",
    "rdd.intersection(soma).collect()"
   ]
  },
  {
   "cell_type": "markdown",
   "id": "13d0424d-7f18-49c5-b28a-f4acb36b79ab",
   "metadata": {},
   "source": [
    "## Dataframes"
   ]
  },
  {
   "cell_type": "code",
   "execution_count": 17,
   "id": "ac199e94-8cc7-4fb8-8b4e-16dc798524fa",
   "metadata": {},
   "outputs": [
    {
     "name": "stdout",
     "output_type": "stream",
     "text": [
      "+----------+-----+\n",
      "|year(data)|count|\n",
      "+----------+-----+\n",
      "|      2024|   60|\n",
      "+----------+-----+\n",
      "\n"
     ]
    }
   ],
   "source": [
    "from pyspark.sql import functions as Func\n",
    "#spark.conf.set(\"spark.sql.legacy.timeParserPolicy\", \"LEGACY\")\n",
    "abertura = df.withColumn(\"data\", Func.to_timestamp(Func.col(\"timeOpen\"), \"yyyy-MM-dd'T'HH:mm:ss.SSS'Z'\"))\n",
    "# conta quantas vezes o ano se repete durante esse dataframe\n",
    "abertura.select(\"data\").groupBy(Func.year(\"data\")).count().show()\n",
    "#abertura.head()"
   ]
  },
  {
   "cell_type": "code",
   "execution_count": 35,
   "id": "6e839a86-e3a8-43c4-b7dc-f608ec770d7d",
   "metadata": {},
   "outputs": [
    {
     "name": "stdout",
     "output_type": "stream",
     "text": [
      "+------------+--------------------+\n",
      "|        open|            timeOpen|\n",
      "+------------+--------------------+\n",
      "|0.5373953256|2024-03-06T00:00:...|\n",
      "|0.5982707251|2024-03-07T00:00:...|\n",
      "|0.6220453242|2024-03-08T00:00:...|\n",
      "|0.6143146033|2024-03-09T00:00:...|\n",
      "|0.8150565578|2024-03-10T00:00:...|\n",
      "|0.6960503913|2024-03-11T00:00:...|\n",
      "| 0.628751318|2024-03-12T00:00:...|\n",
      "|0.5581168596|2024-03-13T00:00:...|\n",
      "|0.5224376319|2024-03-14T00:00:...|\n",
      "|0.5148657252|2024-03-15T00:00:...|\n",
      "| 0.497326043|2024-03-16T00:00:...|\n",
      "|0.4364030983|2024-03-17T00:00:...|\n",
      "| 0.494266342|2024-03-18T00:00:...|\n",
      "|0.4595448809|2024-03-19T00:00:...|\n",
      "| 0.389506345|2024-03-20T00:00:...|\n",
      "|0.4317766705|2024-03-21T00:00:...|\n",
      "| 0.411620251|2024-03-22T00:00:...|\n",
      "|0.4095128857|2024-03-23T00:00:...|\n",
      "|0.4173736789|2024-03-24T00:00:...|\n",
      "| 0.431016679|2024-03-25T00:00:...|\n",
      "+------------+--------------------+\n",
      "only showing top 20 rows\n",
      "\n"
     ]
    }
   ],
   "source": [
    "#preco = df.withColumn(\"cotacao\", Func.col(\"open\"))\n",
    "#preco.select(\"cotacao\").groupBy(\"cotacao\").count().show()\n",
    "df.select(\"open\", \"timeOpen\").orderBy(\"timeOpen\").show()"
   ]
  }
 ],
 "metadata": {
  "kernelspec": {
   "display_name": "Python 3 (ipykernel)",
   "language": "python",
   "name": "python3"
  },
  "language_info": {
   "codemirror_mode": {
    "name": "ipython",
    "version": 3
   },
   "file_extension": ".py",
   "mimetype": "text/x-python",
   "name": "python",
   "nbconvert_exporter": "python",
   "pygments_lexer": "ipython3",
   "version": "3.10.12"
  }
 },
 "nbformat": 4,
 "nbformat_minor": 5
}
