{
 "cells": [
  {
   "cell_type": "code",
   "execution_count": 5,
   "id": "8154bd51-b47e-4097-a86a-faa666d8e52b",
   "metadata": {},
   "outputs": [
    {
     "data": {
      "text/plain": [
       "['__class__',\n",
       " '__delattr__',\n",
       " '__dict__',\n",
       " '__dir__',\n",
       " '__doc__',\n",
       " '__eq__',\n",
       " '__format__',\n",
       " '__ge__',\n",
       " '__getattribute__',\n",
       " '__getitem__',\n",
       " '__gt__',\n",
       " '__hash__',\n",
       " '__init__',\n",
       " '__init_subclass__',\n",
       " '__iter__',\n",
       " '__le__',\n",
       " '__len__',\n",
       " '__lt__',\n",
       " '__module__',\n",
       " '__ne__',\n",
       " '__new__',\n",
       " '__reduce__',\n",
       " '__reduce_ex__',\n",
       " '__repr__',\n",
       " '__setattr__',\n",
       " '__sizeof__',\n",
       " '__str__',\n",
       " '__subclasshook__',\n",
       " '__weakref__',\n",
       " '_needConversion',\n",
       " '_needSerializeAnyField',\n",
       " 'add',\n",
       " 'fieldNames',\n",
       " 'fields',\n",
       " 'fromInternal',\n",
       " 'fromJson',\n",
       " 'json',\n",
       " 'jsonValue',\n",
       " 'names',\n",
       " 'needConversion',\n",
       " 'simpleString',\n",
       " 'toInternal',\n",
       " 'typeName']"
      ]
     },
     "execution_count": 5,
     "metadata": {},
     "output_type": "execute_result"
    }
   ],
   "source": [
    "from pyspark.sql import SparkSession\n",
    "from pyspark.sql.types import StructType, StructField, DecimalType, StringType\n",
    "\n",
    "# Crie uma sessão do Spark\n",
    "spark = SparkSession.builder.appName(\"DecimalScalePrecisionError\").getOrCreate()\n",
    "\n",
    "# Defina um esquema com precisão e escala incorretas\n",
    "schema = StructType([\n",
    "    StructField(\"id\", DecimalType(), True)  # Isto causará o erro\n",
    "    #StructField(\"name\", StringType(), True)\n",
    "])\n",
    "dir(schema)"
   ]
  },
  {
   "cell_type": "code",
   "execution_count": 27,
   "id": "9c29e5cd-657f-4074-9d04-d75010905d4e",
   "metadata": {},
   "outputs": [
    {
     "data": {
      "text/plain": [
       "[StructField('id', DecimalType(10,0), True)]"
      ]
     },
     "execution_count": 27,
     "metadata": {},
     "output_type": "execute_result"
    }
   ],
   "source": [
    "schema.fields"
   ]
  },
  {
   "cell_type": "code",
   "execution_count": 30,
   "id": "eb4b169e-3a57-4a3b-9f4d-7df06ecde20a",
   "metadata": {},
   "outputs": [
    {
     "data": {
      "text/plain": [
       "StructField('id', DecimalType(10,0), True)"
      ]
     },
     "execution_count": 30,
     "metadata": {},
     "output_type": "execute_result"
    }
   ],
   "source": [
    "schema.fields[0] "
   ]
  },
  {
   "cell_type": "code",
   "execution_count": 33,
   "id": "0f2c6eef-62df-4134-a0cd-43efd3f8a87d",
   "metadata": {},
   "outputs": [],
   "source": [
    "schema.fields[0].dataType = StringType()"
   ]
  },
  {
   "cell_type": "code",
   "execution_count": 35,
   "id": "87ad2065-49d8-4816-8afe-be0eba0e00d4",
   "metadata": {},
   "outputs": [
    {
     "data": {
      "text/plain": [
       "StructField('id', StringType(), True)"
      ]
     },
     "execution_count": 35,
     "metadata": {},
     "output_type": "execute_result"
    }
   ],
   "source": [
    "schema.fields[0] "
   ]
  },
  {
   "cell_type": "code",
   "execution_count": null,
   "id": "8378bc1d-b7f0-462e-bf1f-1838c07fa2be",
   "metadata": {},
   "outputs": [],
   "source": []
  }
 ],
 "metadata": {
  "kernelspec": {
   "display_name": "Python 3 (ipykernel)",
   "language": "python",
   "name": "python3"
  },
  "language_info": {
   "codemirror_mode": {
    "name": "ipython",
    "version": 3
   },
   "file_extension": ".py",
   "mimetype": "text/x-python",
   "name": "python",
   "nbconvert_exporter": "python",
   "pygments_lexer": "ipython3",
   "version": "3.10.12"
  }
 },
 "nbformat": 4,
 "nbformat_minor": 5
}
